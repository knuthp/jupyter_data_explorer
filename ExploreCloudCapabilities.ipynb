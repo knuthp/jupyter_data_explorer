{
  "nbformat": 4,
  "nbformat_minor": 0,
  "metadata": {
    "kernelspec": {
      "display_name": "Python 3",
      "language": "python",
      "name": "python3"
    },
    "language_info": {
      "codemirror_mode": {
        "name": "ipython",
        "version": 3
      },
      "file_extension": ".py",
      "mimetype": "text/x-python",
      "name": "python",
      "nbconvert_exporter": "python",
      "pygments_lexer": "ipython3",
      "version": "3.6.9"
    },
    "colab": {
      "name": "ExploreCloudCapabilities.ipynb",
      "provenance": []
    }
  },
  "cells": [
    {
      "cell_type": "markdown",
      "metadata": {
        "id": "CxSVUp37_YIZ"
      },
      "source": [
        "# Exploring notebooks on Github and Cloud services"
      ]
    },
    {
      "cell_type": "code",
      "metadata": {
        "id": "peFRPZ6O_YIf"
      },
      "source": [
        "import pandas as pd\n",
        "import altair as alt\n",
        "from vega_datasets import data"
      ],
      "execution_count": 1,
      "outputs": []
    },
    {
      "cell_type": "code",
      "metadata": {
        "id": "TqmDggy9_YI4",
        "outputId": "bd4f8361-c91f-42d3-e8c8-6715183ce456",
        "colab": {
          "base_uri": "https://localhost:8080/",
          "height": 206
        }
      },
      "source": [
        "df = data.iris()\n",
        "df.head()"
      ],
      "execution_count": 2,
      "outputs": [
        {
          "output_type": "execute_result",
          "data": {
            "text/html": [
              "<div>\n",
              "<style scoped>\n",
              "    .dataframe tbody tr th:only-of-type {\n",
              "        vertical-align: middle;\n",
              "    }\n",
              "\n",
              "    .dataframe tbody tr th {\n",
              "        vertical-align: top;\n",
              "    }\n",
              "\n",
              "    .dataframe thead th {\n",
              "        text-align: right;\n",
              "    }\n",
              "</style>\n",
              "<table border=\"1\" class=\"dataframe\">\n",
              "  <thead>\n",
              "    <tr style=\"text-align: right;\">\n",
              "      <th></th>\n",
              "      <th>sepalLength</th>\n",
              "      <th>sepalWidth</th>\n",
              "      <th>petalLength</th>\n",
              "      <th>petalWidth</th>\n",
              "      <th>species</th>\n",
              "    </tr>\n",
              "  </thead>\n",
              "  <tbody>\n",
              "    <tr>\n",
              "      <th>0</th>\n",
              "      <td>5.1</td>\n",
              "      <td>3.5</td>\n",
              "      <td>1.4</td>\n",
              "      <td>0.2</td>\n",
              "      <td>setosa</td>\n",
              "    </tr>\n",
              "    <tr>\n",
              "      <th>1</th>\n",
              "      <td>4.9</td>\n",
              "      <td>3.0</td>\n",
              "      <td>1.4</td>\n",
              "      <td>0.2</td>\n",
              "      <td>setosa</td>\n",
              "    </tr>\n",
              "    <tr>\n",
              "      <th>2</th>\n",
              "      <td>4.7</td>\n",
              "      <td>3.2</td>\n",
              "      <td>1.3</td>\n",
              "      <td>0.2</td>\n",
              "      <td>setosa</td>\n",
              "    </tr>\n",
              "    <tr>\n",
              "      <th>3</th>\n",
              "      <td>4.6</td>\n",
              "      <td>3.1</td>\n",
              "      <td>1.5</td>\n",
              "      <td>0.2</td>\n",
              "      <td>setosa</td>\n",
              "    </tr>\n",
              "    <tr>\n",
              "      <th>4</th>\n",
              "      <td>5.0</td>\n",
              "      <td>3.6</td>\n",
              "      <td>1.4</td>\n",
              "      <td>0.2</td>\n",
              "      <td>setosa</td>\n",
              "    </tr>\n",
              "  </tbody>\n",
              "</table>\n",
              "</div>"
            ],
            "text/plain": [
              "   sepalLength  sepalWidth  petalLength  petalWidth species\n",
              "0          5.1         3.5          1.4         0.2  setosa\n",
              "1          4.9         3.0          1.4         0.2  setosa\n",
              "2          4.7         3.2          1.3         0.2  setosa\n",
              "3          4.6         3.1          1.5         0.2  setosa\n",
              "4          5.0         3.6          1.4         0.2  setosa"
            ]
          },
          "metadata": {
            "tags": []
          },
          "execution_count": 2
        }
      ]
    },
    {
      "cell_type": "code",
      "metadata": {
        "id": "mA7uJ2aE_YJN",
        "outputId": "6a4a7a1a-7c29-4054-bccc-1229d0b506f8",
        "colab": {
          "base_uri": "https://localhost:8080/",
          "height": 104
        }
      },
      "source": [
        "#alt.renderers.enable('mimetype')\n",
        "alt.Chart(df).mark_point().encode(\n",
        "    x = 'sepalLength',\n",
        "    y = 'sepalWidth',\n",
        ")"
      ],
      "execution_count": 3,
      "outputs": [
        {
          "output_type": "execute_result",
          "data": {
            "application/vnd.vegalite.v4+json": {
              "datasets": {
                "data-a264acbd6e539a8b3afc0cb5f240fb57": [
                  {
                    "sepalLength": 5.1,
                    "petalWidth": 0.2,
                    "sepalWidth": 3.5,
                    "petalLength": 1.4,
                    "species": "setosa"
                  },
                  {
                    "sepalLength": 4.9,
                    "petalWidth": 0.2,
                    "sepalWidth": 3,
                    "petalLength": 1.4,
                    "species": "setosa"
                  },
                  {
                    "sepalLength": 4.7,
                    "petalWidth": 0.2,
                    "sepalWidth": 3.2,
                    "petalLength": 1.3,
                    "species": "setosa"
                  },
                  {
                    "sepalLength": 4.6,
                    "petalWidth": 0.2,
                    "sepalWidth": 3.1,
                    "petalLength": 1.5,
                    "species": "setosa"
                  },
                  {
                    "sepalLength": 5,
                    "petalWidth": 0.2,
                    "sepalWidth": 3.6,
                    "petalLength": 1.4,
                    "species": "setosa"
                  },
                  {
                    "sepalLength": 5.4,
                    "petalWidth": 0.4,
                    "sepalWidth": 3.9,
                    "petalLength": 1.7000000000000002,
                    "species": "setosa"
                  },
                  {
                    "sepalLength": 4.6,
                    "petalWidth": 0.30000000000000004,
                    "sepalWidth": 3.4,
                    "petalLength": 1.4,
                    "species": "setosa"
                  },
                  {
                    "sepalLength": 5,
                    "petalWidth": 0.2,
                    "sepalWidth": 3.4,
                    "petalLength": 1.5,
                    "species": "setosa"
                  },
                  {
                    "sepalLength": 4.4,
                    "petalWidth": 0.2,
                    "sepalWidth": 2.9,
                    "petalLength": 1.4,
                    "species": "setosa"
                  },
                  {
                    "sepalLength": 4.9,
                    "petalWidth": 0.1,
                    "sepalWidth": 3.1,
                    "petalLength": 1.5,
                    "species": "setosa"
                  },
                  {
                    "sepalLength": 5.4,
                    "petalWidth": 0.2,
                    "sepalWidth": 3.7,
                    "petalLength": 1.5,
                    "species": "setosa"
                  },
                  {
                    "sepalLength": 4.8,
                    "petalWidth": 0.2,
                    "sepalWidth": 3.4,
                    "petalLength": 1.6,
                    "species": "setosa"
                  },
                  {
                    "sepalLength": 4.8,
                    "petalWidth": 0.1,
                    "sepalWidth": 3,
                    "petalLength": 1.4,
                    "species": "setosa"
                  },
                  {
                    "sepalLength": 4.3,
                    "petalWidth": 0.1,
                    "sepalWidth": 3,
                    "petalLength": 1.1,
                    "species": "setosa"
                  },
                  {
                    "sepalLength": 5.8,
                    "petalWidth": 0.2,
                    "sepalWidth": 4,
                    "petalLength": 1.2,
                    "species": "setosa"
                  },
                  {
                    "sepalLength": 5.7,
                    "petalWidth": 0.4,
                    "sepalWidth": 4.4,
                    "petalLength": 1.5,
                    "species": "setosa"
                  },
                  {
                    "sepalLength": 5.4,
                    "petalWidth": 0.4,
                    "sepalWidth": 3.9,
                    "petalLength": 1.3,
                    "species": "setosa"
                  },
                  {
                    "sepalLength": 5.1,
                    "petalWidth": 0.30000000000000004,
                    "sepalWidth": 3.5,
                    "petalLength": 1.4,
                    "species": "setosa"
                  },
                  {
                    "sepalLength": 5.7,
                    "petalWidth": 0.30000000000000004,
                    "sepalWidth": 3.8,
                    "petalLength": 1.7000000000000002,
                    "species": "setosa"
                  },
                  {
                    "sepalLength": 5.1,
                    "petalWidth": 0.30000000000000004,
                    "sepalWidth": 3.8,
                    "petalLength": 1.5,
                    "species": "setosa"
                  },
                  {
                    "sepalLength": 5.4,
                    "petalWidth": 0.2,
                    "sepalWidth": 3.4,
                    "petalLength": 1.7000000000000002,
                    "species": "setosa"
                  },
                  {
                    "sepalLength": 5.1,
                    "petalWidth": 0.4,
                    "sepalWidth": 3.7,
                    "petalLength": 1.5,
                    "species": "setosa"
                  },
                  {
                    "sepalLength": 4.6,
                    "petalWidth": 0.2,
                    "sepalWidth": 3.6,
                    "petalLength": 1,
                    "species": "setosa"
                  },
                  {
                    "sepalLength": 5.1,
                    "petalWidth": 0.5,
                    "sepalWidth": 3.3,
                    "petalLength": 1.7000000000000002,
                    "species": "setosa"
                  },
                  {
                    "sepalLength": 4.8,
                    "petalWidth": 0.2,
                    "sepalWidth": 3.4,
                    "petalLength": 1.9,
                    "species": "setosa"
                  },
                  {
                    "sepalLength": 5,
                    "petalWidth": 0.2,
                    "sepalWidth": 3,
                    "petalLength": 1.6,
                    "species": "setosa"
                  },
                  {
                    "sepalLength": 5,
                    "petalWidth": 0.4,
                    "sepalWidth": 3.4,
                    "petalLength": 1.6,
                    "species": "setosa"
                  },
                  {
                    "sepalLength": 5.2,
                    "petalWidth": 0.2,
                    "sepalWidth": 3.5,
                    "petalLength": 1.5,
                    "species": "setosa"
                  },
                  {
                    "sepalLength": 5.2,
                    "petalWidth": 0.2,
                    "sepalWidth": 3.4,
                    "petalLength": 1.4,
                    "species": "setosa"
                  },
                  {
                    "sepalLength": 4.7,
                    "petalWidth": 0.2,
                    "sepalWidth": 3.2,
                    "petalLength": 1.6,
                    "species": "setosa"
                  },
                  {
                    "sepalLength": 4.8,
                    "petalWidth": 0.2,
                    "sepalWidth": 3.1,
                    "petalLength": 1.6,
                    "species": "setosa"
                  },
                  {
                    "sepalLength": 5.4,
                    "petalWidth": 0.4,
                    "sepalWidth": 3.4,
                    "petalLength": 1.5,
                    "species": "setosa"
                  },
                  {
                    "sepalLength": 5.2,
                    "petalWidth": 0.1,
                    "sepalWidth": 4.1,
                    "petalLength": 1.5,
                    "species": "setosa"
                  },
                  {
                    "sepalLength": 5.5,
                    "petalWidth": 0.2,
                    "sepalWidth": 4.2,
                    "petalLength": 1.4,
                    "species": "setosa"
                  },
                  {
                    "sepalLength": 4.9,
                    "petalWidth": 0.2,
                    "sepalWidth": 3.1,
                    "petalLength": 1.5,
                    "species": "setosa"
                  },
                  {
                    "sepalLength": 5,
                    "petalWidth": 0.2,
                    "sepalWidth": 3.2,
                    "petalLength": 1.2,
                    "species": "setosa"
                  },
                  {
                    "sepalLength": 5.5,
                    "petalWidth": 0.2,
                    "sepalWidth": 3.5,
                    "petalLength": 1.3,
                    "species": "setosa"
                  },
                  {
                    "sepalLength": 4.9,
                    "petalWidth": 0.1,
                    "sepalWidth": 3.6,
                    "petalLength": 1.4,
                    "species": "setosa"
                  },
                  {
                    "sepalLength": 4.4,
                    "petalWidth": 0.2,
                    "sepalWidth": 3,
                    "petalLength": 1.3,
                    "species": "setosa"
                  },
                  {
                    "sepalLength": 5.1,
                    "petalWidth": 0.2,
                    "sepalWidth": 3.4,
                    "petalLength": 1.5,
                    "species": "setosa"
                  },
                  {
                    "sepalLength": 5,
                    "petalWidth": 0.30000000000000004,
                    "sepalWidth": 3.5,
                    "petalLength": 1.3,
                    "species": "setosa"
                  },
                  {
                    "sepalLength": 4.5,
                    "petalWidth": 0.30000000000000004,
                    "sepalWidth": 2.3,
                    "petalLength": 1.3,
                    "species": "setosa"
                  },
                  {
                    "sepalLength": 4.4,
                    "petalWidth": 0.2,
                    "sepalWidth": 3.2,
                    "petalLength": 1.3,
                    "species": "setosa"
                  },
                  {
                    "sepalLength": 5,
                    "petalWidth": 0.6000000000000001,
                    "sepalWidth": 3.5,
                    "petalLength": 1.6,
                    "species": "setosa"
                  },
                  {
                    "sepalLength": 5.1,
                    "petalWidth": 0.4,
                    "sepalWidth": 3.8,
                    "petalLength": 1.9,
                    "species": "setosa"
                  },
                  {
                    "sepalLength": 4.8,
                    "petalWidth": 0.30000000000000004,
                    "sepalWidth": 3,
                    "petalLength": 1.4,
                    "species": "setosa"
                  },
                  {
                    "sepalLength": 5.1,
                    "petalWidth": 0.2,
                    "sepalWidth": 3.8,
                    "petalLength": 1.6,
                    "species": "setosa"
                  },
                  {
                    "sepalLength": 4.6,
                    "petalWidth": 0.2,
                    "sepalWidth": 3.2,
                    "petalLength": 1.4,
                    "species": "setosa"
                  },
                  {
                    "sepalLength": 5.3,
                    "petalWidth": 0.2,
                    "sepalWidth": 3.7,
                    "petalLength": 1.5,
                    "species": "setosa"
                  },
                  {
                    "sepalLength": 5,
                    "petalWidth": 0.2,
                    "sepalWidth": 3.3,
                    "petalLength": 1.4,
                    "species": "setosa"
                  },
                  {
                    "sepalLength": 7,
                    "petalWidth": 1.4,
                    "sepalWidth": 3.2,
                    "petalLength": 4.7,
                    "species": "versicolor"
                  },
                  {
                    "sepalLength": 6.4,
                    "petalWidth": 1.5,
                    "sepalWidth": 3.2,
                    "petalLength": 4.5,
                    "species": "versicolor"
                  },
                  {
                    "sepalLength": 6.9,
                    "petalWidth": 1.5,
                    "sepalWidth": 3.1,
                    "petalLength": 4.9,
                    "species": "versicolor"
                  },
                  {
                    "sepalLength": 5.5,
                    "petalWidth": 1.3,
                    "sepalWidth": 2.3,
                    "petalLength": 4,
                    "species": "versicolor"
                  },
                  {
                    "sepalLength": 6.5,
                    "petalWidth": 1.5,
                    "sepalWidth": 2.8,
                    "petalLength": 4.6,
                    "species": "versicolor"
                  },
                  {
                    "sepalLength": 5.7,
                    "petalWidth": 1.3,
                    "sepalWidth": 2.8,
                    "petalLength": 4.5,
                    "species": "versicolor"
                  },
                  {
                    "sepalLength": 6.3,
                    "petalWidth": 1.6,
                    "sepalWidth": 3.3,
                    "petalLength": 4.7,
                    "species": "versicolor"
                  },
                  {
                    "sepalLength": 4.9,
                    "petalWidth": 1,
                    "sepalWidth": 2.4,
                    "petalLength": 3.3,
                    "species": "versicolor"
                  },
                  {
                    "sepalLength": 6.6,
                    "petalWidth": 1.3,
                    "sepalWidth": 2.9,
                    "petalLength": 4.6,
                    "species": "versicolor"
                  },
                  {
                    "sepalLength": 5.2,
                    "petalWidth": 1.4,
                    "sepalWidth": 2.7,
                    "petalLength": 3.9,
                    "species": "versicolor"
                  },
                  {
                    "sepalLength": 5,
                    "petalWidth": 1,
                    "sepalWidth": 2,
                    "petalLength": 3.5,
                    "species": "versicolor"
                  },
                  {
                    "sepalLength": 5.9,
                    "petalWidth": 1.5,
                    "sepalWidth": 3,
                    "petalLength": 4.2,
                    "species": "versicolor"
                  },
                  {
                    "sepalLength": 6,
                    "petalWidth": 1,
                    "sepalWidth": 2.2,
                    "petalLength": 4,
                    "species": "versicolor"
                  },
                  {
                    "sepalLength": 6.1,
                    "petalWidth": 1.4,
                    "sepalWidth": 2.9,
                    "petalLength": 4.7,
                    "species": "versicolor"
                  },
                  {
                    "sepalLength": 5.6,
                    "petalWidth": 1.3,
                    "sepalWidth": 2.9,
                    "petalLength": 3.6,
                    "species": "versicolor"
                  },
                  {
                    "sepalLength": 6.7,
                    "petalWidth": 1.4,
                    "sepalWidth": 3.1,
                    "petalLength": 4.4,
                    "species": "versicolor"
                  },
                  {
                    "sepalLength": 5.6,
                    "petalWidth": 1.5,
                    "sepalWidth": 3,
                    "petalLength": 4.5,
                    "species": "versicolor"
                  },
                  {
                    "sepalLength": 5.8,
                    "petalWidth": 1,
                    "sepalWidth": 2.7,
                    "petalLength": 4.1,
                    "species": "versicolor"
                  },
                  {
                    "sepalLength": 6.2,
                    "petalWidth": 1.5,
                    "sepalWidth": 2.2,
                    "petalLength": 4.5,
                    "species": "versicolor"
                  },
                  {
                    "sepalLength": 5.6,
                    "petalWidth": 1.1,
                    "sepalWidth": 2.5,
                    "petalLength": 3.9,
                    "species": "versicolor"
                  },
                  {
                    "sepalLength": 5.9,
                    "petalWidth": 1.8,
                    "sepalWidth": 3.2,
                    "petalLength": 4.8,
                    "species": "versicolor"
                  },
                  {
                    "sepalLength": 6.1,
                    "petalWidth": 1.3,
                    "sepalWidth": 2.8,
                    "petalLength": 4,
                    "species": "versicolor"
                  },
                  {
                    "sepalLength": 6.3,
                    "petalWidth": 1.5,
                    "sepalWidth": 2.5,
                    "petalLength": 4.9,
                    "species": "versicolor"
                  },
                  {
                    "sepalLength": 6.1,
                    "petalWidth": 1.2,
                    "sepalWidth": 2.8,
                    "petalLength": 4.7,
                    "species": "versicolor"
                  },
                  {
                    "sepalLength": 6.4,
                    "petalWidth": 1.3,
                    "sepalWidth": 2.9,
                    "petalLength": 4.3,
                    "species": "versicolor"
                  },
                  {
                    "sepalLength": 6.6,
                    "petalWidth": 1.4,
                    "sepalWidth": 3,
                    "petalLength": 4.4,
                    "species": "versicolor"
                  },
                  {
                    "sepalLength": 6.8,
                    "petalWidth": 1.4,
                    "sepalWidth": 2.8,
                    "petalLength": 4.8,
                    "species": "versicolor"
                  },
                  {
                    "sepalLength": 6.7,
                    "petalWidth": 1.7000000000000002,
                    "sepalWidth": 3,
                    "petalLength": 5,
                    "species": "versicolor"
                  },
                  {
                    "sepalLength": 6,
                    "petalWidth": 1.5,
                    "sepalWidth": 2.9,
                    "petalLength": 4.5,
                    "species": "versicolor"
                  },
                  {
                    "sepalLength": 5.7,
                    "petalWidth": 1,
                    "sepalWidth": 2.6,
                    "petalLength": 3.5,
                    "species": "versicolor"
                  },
                  {
                    "sepalLength": 5.5,
                    "petalWidth": 1.1,
                    "sepalWidth": 2.4,
                    "petalLength": 3.8,
                    "species": "versicolor"
                  },
                  {
                    "sepalLength": 5.5,
                    "petalWidth": 1,
                    "sepalWidth": 2.4,
                    "petalLength": 3.7,
                    "species": "versicolor"
                  },
                  {
                    "sepalLength": 5.8,
                    "petalWidth": 1.2,
                    "sepalWidth": 2.7,
                    "petalLength": 3.9,
                    "species": "versicolor"
                  },
                  {
                    "sepalLength": 6,
                    "petalWidth": 1.6,
                    "sepalWidth": 2.7,
                    "petalLength": 5.1,
                    "species": "versicolor"
                  },
                  {
                    "sepalLength": 5.4,
                    "petalWidth": 1.5,
                    "sepalWidth": 3,
                    "petalLength": 4.5,
                    "species": "versicolor"
                  },
                  {
                    "sepalLength": 6,
                    "petalWidth": 1.6,
                    "sepalWidth": 3.4,
                    "petalLength": 4.5,
                    "species": "versicolor"
                  },
                  {
                    "sepalLength": 6.7,
                    "petalWidth": 1.5,
                    "sepalWidth": 3.1,
                    "petalLength": 4.7,
                    "species": "versicolor"
                  },
                  {
                    "sepalLength": 6.3,
                    "petalWidth": 1.3,
                    "sepalWidth": 2.3,
                    "petalLength": 4.4,
                    "species": "versicolor"
                  },
                  {
                    "sepalLength": 5.6,
                    "petalWidth": 1.3,
                    "sepalWidth": 3,
                    "petalLength": 4.1,
                    "species": "versicolor"
                  },
                  {
                    "sepalLength": 5.5,
                    "petalWidth": 1.3,
                    "sepalWidth": 2.5,
                    "petalLength": 4,
                    "species": "versicolor"
                  },
                  {
                    "sepalLength": 5.5,
                    "petalWidth": 1.2,
                    "sepalWidth": 2.6,
                    "petalLength": 4.4,
                    "species": "versicolor"
                  },
                  {
                    "sepalLength": 6.1,
                    "petalWidth": 1.4,
                    "sepalWidth": 3,
                    "petalLength": 4.6,
                    "species": "versicolor"
                  },
                  {
                    "sepalLength": 5.8,
                    "petalWidth": 1.2,
                    "sepalWidth": 2.6,
                    "petalLength": 4,
                    "species": "versicolor"
                  },
                  {
                    "sepalLength": 5,
                    "petalWidth": 1,
                    "sepalWidth": 2.3,
                    "petalLength": 3.3,
                    "species": "versicolor"
                  },
                  {
                    "sepalLength": 5.6,
                    "petalWidth": 1.3,
                    "sepalWidth": 2.7,
                    "petalLength": 4.2,
                    "species": "versicolor"
                  },
                  {
                    "sepalLength": 5.7,
                    "petalWidth": 1.2,
                    "sepalWidth": 3,
                    "petalLength": 4.2,
                    "species": "versicolor"
                  },
                  {
                    "sepalLength": 5.7,
                    "petalWidth": 1.3,
                    "sepalWidth": 2.9,
                    "petalLength": 4.2,
                    "species": "versicolor"
                  },
                  {
                    "sepalLength": 6.2,
                    "petalWidth": 1.3,
                    "sepalWidth": 2.9,
                    "petalLength": 4.3,
                    "species": "versicolor"
                  },
                  {
                    "sepalLength": 5.1,
                    "petalWidth": 1.1,
                    "sepalWidth": 2.5,
                    "petalLength": 3,
                    "species": "versicolor"
                  },
                  {
                    "sepalLength": 5.7,
                    "petalWidth": 1.3,
                    "sepalWidth": 2.8,
                    "petalLength": 4.1,
                    "species": "versicolor"
                  },
                  {
                    "sepalLength": 6.3,
                    "petalWidth": 2.5,
                    "sepalWidth": 3.3,
                    "petalLength": 6,
                    "species": "virginica"
                  },
                  {
                    "sepalLength": 5.8,
                    "petalWidth": 1.9,
                    "sepalWidth": 2.7,
                    "petalLength": 5.1,
                    "species": "virginica"
                  },
                  {
                    "sepalLength": 7.1,
                    "petalWidth": 2.1,
                    "sepalWidth": 3,
                    "petalLength": 5.9,
                    "species": "virginica"
                  },
                  {
                    "sepalLength": 6.3,
                    "petalWidth": 1.8,
                    "sepalWidth": 2.9,
                    "petalLength": 5.6,
                    "species": "virginica"
                  },
                  {
                    "sepalLength": 6.5,
                    "petalWidth": 2.2,
                    "sepalWidth": 3,
                    "petalLength": 5.8,
                    "species": "virginica"
                  },
                  {
                    "sepalLength": 7.6,
                    "petalWidth": 2.1,
                    "sepalWidth": 3,
                    "petalLength": 6.6,
                    "species": "virginica"
                  },
                  {
                    "sepalLength": 4.9,
                    "petalWidth": 1.7000000000000002,
                    "sepalWidth": 2.5,
                    "petalLength": 4.5,
                    "species": "virginica"
                  },
                  {
                    "sepalLength": 7.3,
                    "petalWidth": 1.8,
                    "sepalWidth": 2.9,
                    "petalLength": 6.3,
                    "species": "virginica"
                  },
                  {
                    "sepalLength": 6.7,
                    "petalWidth": 1.8,
                    "sepalWidth": 2.5,
                    "petalLength": 5.8,
                    "species": "virginica"
                  },
                  {
                    "sepalLength": 7.2,
                    "petalWidth": 2.5,
                    "sepalWidth": 3.6,
                    "petalLength": 6.1,
                    "species": "virginica"
                  },
                  {
                    "sepalLength": 6.5,
                    "petalWidth": 2,
                    "sepalWidth": 3.2,
                    "petalLength": 5.1,
                    "species": "virginica"
                  },
                  {
                    "sepalLength": 6.4,
                    "petalWidth": 1.9,
                    "sepalWidth": 2.7,
                    "petalLength": 5.3,
                    "species": "virginica"
                  },
                  {
                    "sepalLength": 6.8,
                    "petalWidth": 2.1,
                    "sepalWidth": 3,
                    "petalLength": 5.5,
                    "species": "virginica"
                  },
                  {
                    "sepalLength": 5.7,
                    "petalWidth": 2,
                    "sepalWidth": 2.5,
                    "petalLength": 5,
                    "species": "virginica"
                  },
                  {
                    "sepalLength": 5.8,
                    "petalWidth": 2.4,
                    "sepalWidth": 2.8,
                    "petalLength": 5.1,
                    "species": "virginica"
                  },
                  {
                    "sepalLength": 6.4,
                    "petalWidth": 2.3,
                    "sepalWidth": 3.2,
                    "petalLength": 5.3,
                    "species": "virginica"
                  },
                  {
                    "sepalLength": 6.5,
                    "petalWidth": 1.8,
                    "sepalWidth": 3,
                    "petalLength": 5.5,
                    "species": "virginica"
                  },
                  {
                    "sepalLength": 7.7,
                    "petalWidth": 2.2,
                    "sepalWidth": 3.8,
                    "petalLength": 6.7,
                    "species": "virginica"
                  },
                  {
                    "sepalLength": 7.7,
                    "petalWidth": 2.3,
                    "sepalWidth": 2.6,
                    "petalLength": 6.9,
                    "species": "virginica"
                  },
                  {
                    "sepalLength": 6,
                    "petalWidth": 1.5,
                    "sepalWidth": 2.2,
                    "petalLength": 5,
                    "species": "virginica"
                  },
                  {
                    "sepalLength": 6.9,
                    "petalWidth": 2.3,
                    "sepalWidth": 3.2,
                    "petalLength": 5.7,
                    "species": "virginica"
                  },
                  {
                    "sepalLength": 5.6,
                    "petalWidth": 2,
                    "sepalWidth": 2.8,
                    "petalLength": 4.9,
                    "species": "virginica"
                  },
                  {
                    "sepalLength": 7.7,
                    "petalWidth": 2,
                    "sepalWidth": 2.8,
                    "petalLength": 6.7,
                    "species": "virginica"
                  },
                  {
                    "sepalLength": 6.3,
                    "petalWidth": 1.8,
                    "sepalWidth": 2.7,
                    "petalLength": 4.9,
                    "species": "virginica"
                  },
                  {
                    "sepalLength": 6.7,
                    "petalWidth": 2.1,
                    "sepalWidth": 3.3,
                    "petalLength": 5.7,
                    "species": "virginica"
                  },
                  {
                    "sepalLength": 7.2,
                    "petalWidth": 1.8,
                    "sepalWidth": 3.2,
                    "petalLength": 6,
                    "species": "virginica"
                  },
                  {
                    "sepalLength": 6.2,
                    "petalWidth": 1.8,
                    "sepalWidth": 2.8,
                    "petalLength": 4.8,
                    "species": "virginica"
                  },
                  {
                    "sepalLength": 6.1,
                    "petalWidth": 1.8,
                    "sepalWidth": 3,
                    "petalLength": 4.9,
                    "species": "virginica"
                  },
                  {
                    "sepalLength": 6.4,
                    "petalWidth": 2.1,
                    "sepalWidth": 2.8,
                    "petalLength": 5.6,
                    "species": "virginica"
                  },
                  {
                    "sepalLength": 7.2,
                    "petalWidth": 1.6,
                    "sepalWidth": 3,
                    "petalLength": 5.8,
                    "species": "virginica"
                  },
                  {
                    "sepalLength": 7.4,
                    "petalWidth": 1.9,
                    "sepalWidth": 2.8,
                    "petalLength": 6.1,
                    "species": "virginica"
                  },
                  {
                    "sepalLength": 7.9,
                    "petalWidth": 2,
                    "sepalWidth": 3.8,
                    "petalLength": 6.4,
                    "species": "virginica"
                  },
                  {
                    "sepalLength": 6.4,
                    "petalWidth": 2.2,
                    "sepalWidth": 2.8,
                    "petalLength": 5.6,
                    "species": "virginica"
                  },
                  {
                    "sepalLength": 6.3,
                    "petalWidth": 1.5,
                    "sepalWidth": 2.8,
                    "petalLength": 5.1,
                    "species": "virginica"
                  },
                  {
                    "sepalLength": 6.1,
                    "petalWidth": 1.4,
                    "sepalWidth": 2.6,
                    "petalLength": 5.6,
                    "species": "virginica"
                  },
                  {
                    "sepalLength": 7.7,
                    "petalWidth": 2.3,
                    "sepalWidth": 3,
                    "petalLength": 6.1,
                    "species": "virginica"
                  },
                  {
                    "sepalLength": 6.3,
                    "petalWidth": 2.4,
                    "sepalWidth": 3.4,
                    "petalLength": 5.6,
                    "species": "virginica"
                  },
                  {
                    "sepalLength": 6.4,
                    "petalWidth": 1.8,
                    "sepalWidth": 3.1,
                    "petalLength": 5.5,
                    "species": "virginica"
                  },
                  {
                    "sepalLength": 6,
                    "petalWidth": 1.8,
                    "sepalWidth": 3,
                    "petalLength": 4.8,
                    "species": "virginica"
                  },
                  {
                    "sepalLength": 6.9,
                    "petalWidth": 2.1,
                    "sepalWidth": 3.1,
                    "petalLength": 5.4,
                    "species": "virginica"
                  },
                  {
                    "sepalLength": 6.7,
                    "petalWidth": 2.4,
                    "sepalWidth": 3.1,
                    "petalLength": 5.6,
                    "species": "virginica"
                  },
                  {
                    "sepalLength": 6.9,
                    "petalWidth": 2.3,
                    "sepalWidth": 3.1,
                    "petalLength": 5.1,
                    "species": "virginica"
                  },
                  {
                    "sepalLength": 5.8,
                    "petalWidth": 1.9,
                    "sepalWidth": 2.7,
                    "petalLength": 5.1,
                    "species": "virginica"
                  },
                  {
                    "sepalLength": 6.8,
                    "petalWidth": 2.3,
                    "sepalWidth": 3.2,
                    "petalLength": 5.9,
                    "species": "virginica"
                  },
                  {
                    "sepalLength": 6.7,
                    "petalWidth": 2.5,
                    "sepalWidth": 3.3,
                    "petalLength": 5.7,
                    "species": "virginica"
                  },
                  {
                    "sepalLength": 6.7,
                    "petalWidth": 2.3,
                    "sepalWidth": 3,
                    "petalLength": 5.2,
                    "species": "virginica"
                  },
                  {
                    "sepalLength": 6.3,
                    "petalWidth": 1.9,
                    "sepalWidth": 2.5,
                    "petalLength": 5,
                    "species": "virginica"
                  },
                  {
                    "sepalLength": 6.5,
                    "petalWidth": 2,
                    "sepalWidth": 3,
                    "petalLength": 5.2,
                    "species": "virginica"
                  },
                  {
                    "sepalLength": 6.2,
                    "petalWidth": 2.3,
                    "sepalWidth": 3.4,
                    "petalLength": 5.4,
                    "species": "virginica"
                  },
                  {
                    "sepalLength": 5.9,
                    "petalWidth": 1.8,
                    "sepalWidth": 3,
                    "petalLength": 5.1,
                    "species": "virginica"
                  }
                ]
              },
              "encoding": {
                "y": {
                  "field": "sepalWidth",
                  "type": "quantitative"
                },
                "x": {
                  "field": "sepalLength",
                  "type": "quantitative"
                }
              },
              "config": {
                "view": {
                  "continuousWidth": 400,
                  "continuousHeight": 300
                }
              },
              "mark": "point",
              "$schema": "https://vega.github.io/schema/vega-lite/v4.8.1.json",
              "data": {
                "name": "data-a264acbd6e539a8b3afc0cb5f240fb57"
              }
            },
            "text/plain": [
              "<VegaLite 4 object>\n",
              "\n",
              "If you see this message, it means the renderer has not been properly enabled\n",
              "for the frontend that you are using. For more information, see\n",
              "https://altair-viz.github.io/user_guide/troubleshooting.html\n"
            ]
          },
          "metadata": {
            "tags": []
          },
          "execution_count": 3
        }
      ]
    },
    {
      "cell_type": "code",
      "metadata": {
        "id": "cTgShGLQ_YJa"
      },
      "source": [
        ""
      ],
      "execution_count": 3,
      "outputs": []
    }
  ]
}